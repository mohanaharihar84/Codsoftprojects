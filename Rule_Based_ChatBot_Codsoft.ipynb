{
  "nbformat": 4,
  "nbformat_minor": 0,
  "metadata": {
    "colab": {
      "provenance": [],
      "authorship_tag": "ABX9TyOd3rqNt7OShlzIJli775r4",
      "include_colab_link": true
    },
    "kernelspec": {
      "name": "python3",
      "display_name": "Python 3"
    },
    "language_info": {
      "name": "python"
    }
  },
  "cells": [
    {
      "cell_type": "markdown",
      "metadata": {
        "id": "view-in-github",
        "colab_type": "text"
      },
      "source": [
        "<a href=\"https://colab.research.google.com/github/mohanaharihar84/Codsoftprojects/blob/main/Rule_Based_ChatBot_Codsoft.ipynb\" target=\"_parent\"><img src=\"https://colab.research.google.com/assets/colab-badge.svg\" alt=\"Open In Colab\"/></a>"
      ]
    },
    {
      "cell_type": "code",
      "execution_count": 4,
      "metadata": {
        "id": "NxliYP_Yaw68"
      },
      "outputs": [],
      "source": [
        "data = {\n",
        "    \"hi\": \"Hi there! I'm a friendly chatbot here to assist you.\",\n",
        "    \"hello\": \"Hello! How can I help you today?\",\n",
        "    \"what is your name\": \"I'm just a chatbot, so I don't have a name, but you can call me ChatBot.\",\n",
        "    \"where are you from\": \"I'm from the digital world, always ready to chat!\",\n",
        "    \"how are you\": \"I'm just a chatbot, but I'm here to assist you.\",\n",
        "    \"can you help me with my homework?\": \"Sure, I can try! What subject or question do you need help with?\",\n",
        "    \"do you have any hobbies or interests?\": \"I'm always busy helping users, so my hobby is chatting with people like you!\",\n",
        "    \"what did you eat today?\": \"I don't eat, but I can help you find delicious recipes and food-related information.\",\n",
        "    \"what's your favorite color?\": \"I'm a chatbot, so I don't have personal preferences for colors.\",\n",
        "    \"do you enjoy listening to music?\": \"I can't listen to music, but I'm here to chat about it!\",\n",
        "    \"bye\": \"Bye! Take care and have a great day!\",\n",
        "    \"exit\": \"Goodbye! Have a great day!\",\n",
        "    \"how can I reset my password?\": \"To reset your password, go to the login page and click on 'Forgot Password'. Follow the instructions to reset it.\",\n",
        "    \"what is your favorite movie?\": \"I'm a chatbot, so I don't watch movies, but I can help you find information about them.\",\n",
        "    \"can you help me with my homework?\": \"Sure! I can try to help you with your homework. What do you need help with?\",\n",
        "    \"what is the weather like today?\": \"I can't check the weather, but you can use a weather app or website for up-to-date information.\",\n",
        "    \"tell me a joke\": \"Why did the scarecrow win an award? Because he was outstanding in his field!\",\n",
        "    \"what is your purpose?\": \"My purpose is to assist and chat with users like you.\",\n",
        "    \"What are the symptoms of a cold?\": \"Common symptoms of a cold include a runny or stuffy nose, sore throat, cough, congestion, and sneezing.\",\n",
        "    \"do you like sports?\": \"I can't play or watch sports, but I can chat about them!\",\n",
        "    \"how old are you?\": \"I'm a digital entity, so I don't have an age.\",\n",
        "    \"what is your favorite book?\": \"I don't read books, but I can help you find information about them.\",\n",
        "    \"what is your favorite food?\": \"I don't eat, but I can help you find recipes and food-related information.\",\n",
        "    \"what languages do you speak?\": \"I can understand and respond in English. How can I assist you?\",\n",
        "    \"what is the capital of France?\" : \"The capital of France is Paris.\" }"
      ]
    },
    {
      "cell_type": "code",
      "source": [
        "def get_response(user_input):\n",
        "    user_input = user_input.lower().strip()\n",
        "    if user_input in data:\n",
        "        return data[user_input]\n",
        "    for pattern, response in data.items():\n",
        "        if pattern in user_input :\n",
        "            return response\n",
        "    return \"I'm sorry, I didn't understand that. Can you please rephrase your sentence?\"\n",
        "\n",
        "print(\"Chatbot: Hi! I'm a simple chatbot, I'm here to assist you! (Type 'exit' to end the chat)\")\n",
        "\n",
        "while True:\n",
        "    user_input = input(\"Me: \").strip().lower()\n",
        "    if user_input == 'bye' or user_input == 'exit':\n",
        "        print(\"Chatbot: Goodbye! Have a great day!\")\n",
        "        break\n",
        "    response = get_response(user_input)\n",
        "    print(\"Chatbot:\", response)"
      ],
      "metadata": {
        "colab": {
          "base_uri": "https://localhost:8080/"
        },
        "id": "RCZA0IoHgxkm",
        "outputId": "ff9dad26-d413-4120-f958-9070fa3f7e55"
      },
      "execution_count": 6,
      "outputs": [
        {
          "output_type": "stream",
          "name": "stdout",
          "text": [
            "Chatbot: Hi! I'm a simple chatbot, I'm here to assist you! (Type 'exit' to end the chat)\n",
            "Me: can you help me with my homework?\n",
            "Chatbot: Sure! I can try to help you with your homework. What do you need help with?\n",
            "Me: what is your name\n",
            "Chatbot: I'm just a chatbot, so I don't have a name, but you can call me ChatBot.\n",
            "Me: do you like sports?\n",
            "Chatbot: I can't play or watch sports, but I can chat about them!\n",
            "Me: what is your purpose?\n",
            "Chatbot: My purpose is to assist and chat with users like you.\n",
            "Me: how old are you?\n",
            "Chatbot: I'm a digital entity, so I don't have an age.\n",
            "Me: exit\n",
            "Chatbot: Goodbye! Have a great day!\n"
          ]
        }
      ]
    }
  ]
}